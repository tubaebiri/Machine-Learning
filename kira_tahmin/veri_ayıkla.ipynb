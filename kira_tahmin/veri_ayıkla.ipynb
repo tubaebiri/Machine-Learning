{
  "nbformat": 4,
  "nbformat_minor": 0,
  "metadata": {
    "colab": {
      "provenance": []
    },
    "kernelspec": {
      "name": "python3",
      "display_name": "Python 3"
    },
    "language_info": {
      "name": "python"
    }
  },
  "cells": [
    {
      "cell_type": "markdown",
      "source": [
        "**2025 Ege bölgesi için kira tahmin uygulaması**                                     \n",
        "Veriler hepsi emlakta yayında bulunan butun ilanlar üzerinden instant data scraper uzantısıyla çekilmiştir . Asagidaki şehirlerin verileri alınmıştır.\n",
        "\n",
        "\n",
        "* İzmir\n",
        "* Manisa\n",
        "* Aydın\n",
        "* Denizli\n",
        "* Muğla\n",
        "* Afyonkarahisar\n",
        "* Kütahya\n",
        "* Uşak\n",
        "\n",
        "yararlanılan kaynak:[Gerçek Verilerle Makine Öğrenmesi: Kira Tahmini Uygulaması](https://www.youtube.com/playlist?list=PL30NBs02RsiVtALCWtMyRT45caVKXhpdU)\n",
        "\n",
        "\n",
        "\n"
      ],
      "metadata": {
        "id": "p7C6JJBxRPvy"
      }
    },
    {
      "cell_type": "code",
      "source": [
        "import os\n",
        "import pandas as pd\n",
        "import numpy as np"
      ],
      "metadata": {
        "id": "eRIg5DLRRSQs"
      },
      "execution_count": 126,
      "outputs": []
    },
    {
      "cell_type": "code",
      "source": [
        "df=pd.read_csv('/content/sample_data/emlak_data/hepsiemlak.csv')"
      ],
      "metadata": {
        "id": "CLubbBI33Qro"
      },
      "execution_count": 128,
      "outputs": []
    },
    {
      "cell_type": "code",
      "source": [
        "print(df.info())"
      ],
      "metadata": {
        "colab": {
          "base_uri": "https://localhost:8080/"
        },
        "id": "N35kWFU_3ufU",
        "outputId": "a03f38b1-1fcf-416c-e962-3d697715b3d3"
      },
      "execution_count": 129,
      "outputs": [
        {
          "output_type": "stream",
          "name": "stdout",
          "text": [
            "<class 'pandas.core.frame.DataFrame'>\n",
            "RangeIndex: 1656 entries, 0 to 1655\n",
            "Data columns (total 19 columns):\n",
            " #   Column                               Non-Null Count  Dtype \n",
            "---  ------                               --------------  ----- \n",
            " 0   img-link href                        1656 non-null   object\n",
            " 1   photo-count                          1656 non-null   int64 \n",
            " 2   list-view-price                      1656 non-null   object\n",
            " 3   list-view-date                       1656 non-null   object\n",
            " 4   left                                 1656 non-null   object\n",
            " 5   celly                                1656 non-null   object\n",
            " 6   celly 2                              1656 non-null   object\n",
            " 7   celly 3                              1656 non-null   object\n",
            " 8   celly 4                              1494 non-null   object\n",
            " 9   eids-badge__description              1466 non-null   object\n",
            " 10  he-lazy-image src                    1592 non-null   object\n",
            " 11  eids-badge__label                    1466 non-null   object\n",
            " 12  list-view-location                   1656 non-null   object\n",
            " 13  img-wrp href                         976 non-null    object\n",
            " 14  he-lazy-image src 2                  1447 non-null   object\n",
            " 15  wp-btn                               1655 non-null   object\n",
            " 16  listing-card--owner-info__firm-name  976 non-null    object\n",
            " 17  he-lazy-image src 3                  855 non-null    object\n",
            " 18  list-view-header                     1651 non-null   object\n",
            "dtypes: int64(1), object(18)\n",
            "memory usage: 245.9+ KB\n",
            "None\n"
          ]
        }
      ]
    },
    {
      "cell_type": "code",
      "source": [
        "os.listdir('/content/sample_data/emlak_data')"
      ],
      "metadata": {
        "colab": {
          "base_uri": "https://localhost:8080/"
        },
        "id": "HnQNQ6Y14JM9",
        "outputId": "1178290b-8bb9-46d4-869f-c66f1badc32c"
      },
      "execution_count": 130,
      "outputs": [
        {
          "output_type": "execute_result",
          "data": {
            "text/plain": [
              "['hepsiemlak (2).csv',\n",
              " 'hepsiemlak (3).csv',\n",
              " 'hepsiemlak (6).csv',\n",
              " 'hepsiemlak (4).csv',\n",
              " 'hepsiemlak (8).csv',\n",
              " 'hepsiemlak (5).csv',\n",
              " 'hepsiemlak (1).csv',\n",
              " 'hepsiemlak (7).csv',\n",
              " 'hepsiemlak.csv']"
            ]
          },
          "metadata": {},
          "execution_count": 130
        }
      ]
    },
    {
      "cell_type": "code",
      "source": [
        "#dosyalar birleştirildi\n",
        "files=os.listdir('/content/sample_data/emlak_data')\n",
        "df =pd.concat([pd.read_csv(f'/content/sample_data/emlak_data/{file}') for file in files],ignore_index=True)"
      ],
      "metadata": {
        "id": "3pAQe_lp4tuv"
      },
      "execution_count": 131,
      "outputs": []
    },
    {
      "cell_type": "code",
      "source": [
        "print(df.info())"
      ],
      "metadata": {
        "colab": {
          "base_uri": "https://localhost:8080/"
        },
        "id": "ZKMB_THf6h7D",
        "outputId": "36b711f1-ae7a-44d6-ef23-d54308136811"
      },
      "execution_count": 132,
      "outputs": [
        {
          "output_type": "stream",
          "name": "stdout",
          "text": [
            "<class 'pandas.core.frame.DataFrame'>\n",
            "RangeIndex: 5361 entries, 0 to 5360\n",
            "Data columns (total 21 columns):\n",
            " #   Column                               Non-Null Count  Dtype \n",
            "---  ------                               --------------  ----- \n",
            " 0   img-link href                        5361 non-null   object\n",
            " 1   photo-count                          5361 non-null   int64 \n",
            " 2   list-view-price                      5361 non-null   object\n",
            " 3   list-view-date                       5361 non-null   object\n",
            " 4   left                                 5263 non-null   object\n",
            " 5   celly                                5361 non-null   object\n",
            " 6   celly 2                              5361 non-null   object\n",
            " 7   celly 3                              5360 non-null   object\n",
            " 8   celly 4                              4727 non-null   object\n",
            " 9   eids-badge__description              4491 non-null   object\n",
            " 10  he-lazy-image src                    4824 non-null   object\n",
            " 11  eids-badge__label                    4491 non-null   object\n",
            " 12  list-view-header                     5352 non-null   object\n",
            " 13  list-view-location                   5361 non-null   object\n",
            " 14  img-wrp href                         3436 non-null   object\n",
            " 15  listing-card--owner-info__firm-name  3436 non-null   object\n",
            " 16  he-lazy-image src 2                  4807 non-null   object\n",
            " 17  he-lazy-image src 3                  3036 non-null   object\n",
            " 18  img-wrp href 2                       149 non-null    object\n",
            " 19  wp-btn                               2284 non-null   object\n",
            " 20  listing-card--owner-info__name       157 non-null    object\n",
            "dtypes: int64(1), object(20)\n",
            "memory usage: 879.7+ KB\n",
            "None\n"
          ]
        }
      ]
    },
    {
      "cell_type": "code",
      "source": [
        "print(df.columns)"
      ],
      "metadata": {
        "colab": {
          "base_uri": "https://localhost:8080/"
        },
        "id": "OoyiUmVB8hUz",
        "outputId": "3096022d-ca41-4307-e103-7b2a595ea20e"
      },
      "execution_count": 133,
      "outputs": [
        {
          "output_type": "stream",
          "name": "stdout",
          "text": [
            "Index(['img-link href', 'photo-count', 'list-view-price', 'list-view-date',\n",
            "       'left', 'celly', 'celly 2', 'celly 3', 'celly 4',\n",
            "       'eids-badge__description', 'he-lazy-image src', 'eids-badge__label',\n",
            "       'list-view-header', 'list-view-location', 'img-wrp href',\n",
            "       'listing-card--owner-info__firm-name', 'he-lazy-image src 2',\n",
            "       'he-lazy-image src 3', 'img-wrp href 2', 'wp-btn',\n",
            "       'listing-card--owner-info__name'],\n",
            "      dtype='object')\n"
          ]
        }
      ]
    },
    {
      "cell_type": "code",
      "source": [
        "df.drop([ 'photo-count',  'list-view-date','left', 'eids-badge__description', 'he-lazy-image src', 'eids-badge__label', 'list-view-header', 'list-view-location', 'img-wrp href', 'listing-card--owner-info__firm-name', 'he-lazy-image src 2','he-lazy-image src 3', 'img-wrp href 2', 'wp-btn','listing-card--owner-info__name'],axis=1,inplace=True)"
      ],
      "metadata": {
        "id": "o6chQBi2-gsG"
      },
      "execution_count": 134,
      "outputs": []
    },
    {
      "cell_type": "code",
      "source": [
        "df.columns"
      ],
      "metadata": {
        "colab": {
          "base_uri": "https://localhost:8080/"
        },
        "id": "UwCi3FNxA4IW",
        "outputId": "11e59abb-28c8-4fb3-b794-ccc057516b72"
      },
      "execution_count": 135,
      "outputs": [
        {
          "output_type": "execute_result",
          "data": {
            "text/plain": [
              "Index(['img-link href', 'list-view-price', 'celly', 'celly 2', 'celly 3',\n",
              "       'celly 4'],\n",
              "      dtype='object')"
            ]
          },
          "metadata": {},
          "execution_count": 135
        }
      ]
    },
    {
      "cell_type": "code",
      "source": [
        "#s=\"https://www.hepsiemlak.com/izmir-karsiyaka-nergiz-kiralik/daire/123075-4420\""
      ],
      "metadata": {
        "id": "uUAIlwVDA-AH"
      },
      "execution_count": 37,
      "outputs": []
    },
    {
      "cell_type": "code",
      "source": [
        "'''\n",
        "şehir ilçe mahalle ayırmaları için kullanıldı\n",
        "x=s.split('/')[3]\n",
        "print(x)\n",
        "x.split('-')\n",
        "'''"
      ],
      "metadata": {
        "colab": {
          "base_uri": "https://localhost:8080/"
        },
        "id": "UJ7Wre8pCUOq",
        "outputId": "3cd6f7d8-6ad4-4b26-f241-ba42eae57ffe"
      },
      "execution_count": 41,
      "outputs": [
        {
          "output_type": "stream",
          "name": "stdout",
          "text": [
            "izmir-karsiyaka-nergiz-kiralik\n"
          ]
        },
        {
          "output_type": "execute_result",
          "data": {
            "text/plain": [
              "['izmir', 'karsiyaka', 'nergiz', 'kiralik']"
            ]
          },
          "metadata": {},
          "execution_count": 41
        }
      ]
    },
    {
      "cell_type": "code",
      "source": [
        "#mahalle isimleri birden fazla kelimeden oluştugu durumlarda boşlugu kaldırmak için join işlemi yaptıldı\n",
        "'''\n",
        "x.split('-')[2:-1]\n",
        "\"_\".join(x.split('-')[2:-1])\n",
        "\n",
        "'''"
      ],
      "metadata": {
        "colab": {
          "base_uri": "https://localhost:8080/",
          "height": 36
        },
        "id": "CxiJ2Ia7Ccjz",
        "outputId": "8ca4be02-a0b2-45df-ca33-b9ae4162a052"
      },
      "execution_count": 47,
      "outputs": [
        {
          "output_type": "execute_result",
          "data": {
            "text/plain": [
              "'nergiz'"
            ],
            "application/vnd.google.colaboratory.intrinsic+json": {
              "type": "string"
            }
          },
          "metadata": {},
          "execution_count": 47
        }
      ]
    },
    {
      "cell_type": "code",
      "source": [
        "df['location']=df['img-link href'].apply(lambda x: x.split('/')[3])\n",
        "df['city']=df['location'].str.split('-').str[0]\n",
        "df['district']=df['location'].str.split('-').str[1]\n",
        "df['neighborhood']=df['location'].str.split('-').str[2:-1]\n",
        "df['neighborhood']=df['neighborhood'].apply(lambda x: '_'.join(x))"
      ],
      "metadata": {
        "id": "EGXk4aY2Cwf9"
      },
      "execution_count": 136,
      "outputs": []
    },
    {
      "cell_type": "code",
      "source": [
        "df.drop(['location','img-link href'],axis=1,inplace=True)"
      ],
      "metadata": {
        "id": "wf2L1yEfFxLp"
      },
      "execution_count": 137,
      "outputs": []
    },
    {
      "cell_type": "code",
      "source": [
        "print(df.info())"
      ],
      "metadata": {
        "colab": {
          "base_uri": "https://localhost:8080/"
        },
        "id": "K7TiWzbGJFN6",
        "outputId": "c6ad26b4-7abc-4210-d2da-0274861f4034"
      },
      "execution_count": 138,
      "outputs": [
        {
          "output_type": "stream",
          "name": "stdout",
          "text": [
            "<class 'pandas.core.frame.DataFrame'>\n",
            "RangeIndex: 5361 entries, 0 to 5360\n",
            "Data columns (total 8 columns):\n",
            " #   Column           Non-Null Count  Dtype \n",
            "---  ------           --------------  ----- \n",
            " 0   list-view-price  5361 non-null   object\n",
            " 1   celly            5361 non-null   object\n",
            " 2   celly 2          5361 non-null   object\n",
            " 3   celly 3          5360 non-null   object\n",
            " 4   celly 4          4727 non-null   object\n",
            " 5   city             5361 non-null   object\n",
            " 6   district         5361 non-null   object\n",
            " 7   neighborhood     5361 non-null   object\n",
            "dtypes: object(8)\n",
            "memory usage: 335.2+ KB\n",
            "None\n"
          ]
        }
      ]
    },
    {
      "cell_type": "code",
      "source": [
        "print(df[['city','district','neighborhood']].sample(30))"
      ],
      "metadata": {
        "colab": {
          "base_uri": "https://localhost:8080/"
        },
        "id": "E5aWzF1iJz1Y",
        "outputId": "98fdc5b0-aed1-4c3b-dd17-41a99127165e"
      },
      "execution_count": 139,
      "outputs": [
        {
          "output_type": "stream",
          "name": "stdout",
          "text": [
            "        city  district    neighborhood\n",
            "3776   izmir     cesme         alacati\n",
            "2003   mugla    bodrum           yahsi\n",
            "1514   mugla    bodrum        kucukbuk\n",
            "4378   izmir   balcova    fevzi_cakmak\n",
            "4984   izmir      buca        yaylacik\n",
            "4726   izmir     konak      mithatpasa\n",
            "560    aydin   nazilli        isabeyli\n",
            "1766   mugla    bodrum   islamhaneleri\n",
            "1765   mugla    bodrum        gundogan\n",
            "5284   izmir      buca        menderes\n",
            "3612   izmir     cesme         alacati\n",
            "4179   izmir   bornova        barbaros\n",
            "3160   izmir  bayrakli          adalet\n",
            "5088   izmir  bayrakli       gumuspala\n",
            "280    aydin    efeler  adnan_menderes\n",
            "1468   mugla   mentese       karsiyaka\n",
            "4186   izmir    odemis         umurbey\n",
            "1438   mugla    bodrum           bitez\n",
            "4125   izmir  bayrakli           cicek\n",
            "4921   izmir      foca    yenibagarasi\n",
            "1856   mugla    bodrum        akyarlar\n",
            "29    manisa   salihli      cumhuriyet\n",
            "2774   izmir      buca         adatepe\n",
            "4212   izmir     cigli    yeni_mahalle\n",
            "4392   izmir   bornova           inonu\n",
            "4737   izmir   bornova         ataturk\n",
            "399    aydin    efeler            cuma\n",
            "1675   mugla    bodrum        turkbuku\n",
            "3734   izmir   bornova          evka_3\n",
            "2070   mugla   fethiye       karaculha\n"
          ]
        }
      ]
    },
    {
      "cell_type": "code",
      "source": [
        "print(df['celly'].unique())"
      ],
      "metadata": {
        "colab": {
          "base_uri": "https://localhost:8080/"
        },
        "id": "avMcYIedKGlF",
        "outputId": "fbc44c04-53ab-466e-924a-1bb5a3621652"
      },
      "execution_count": 140,
      "outputs": [
        {
          "output_type": "stream",
          "name": "stdout",
          "text": [
            "['2 +\\n                          1' '3 +\\n                          1'\n",
            " '1 +\\n                          1' '4 +\\n                          1'\n",
            " '2 +\\n                          0' '4 +\\n                          2'\n",
            " '3 +\\n                          2' 'Stüdyo'\n",
            " '5 +\\n                          1' '3 +\\n                          0'\n",
            " '5 +\\n                          2' '4 +\\n                          0'\n",
            " '2 +\\n                          2' '2 +\\n                          10'\n",
            " '6 +\\n                          2' '7 +\\n                          1'\n",
            " '4 +\\n                          3' '7 +\\n                          3'\n",
            " '3 +\\n                          10' '6 +\\n                          1'\n",
            " '1 +\\n                          2' '8 +\\n                          2'\n",
            " '1 +\\n                          10' '1 +\\n                          3'\n",
            " '7 +\\n                          2' '523 +\\n                          1'\n",
            " '2 +\\n                          25' '3 +\\n                          3'\n",
            " '10 +\\n                          1' '5 +\\n                          0'\n",
            " '6 +\\n                          3']\n"
          ]
        }
      ]
    },
    {
      "cell_type": "code",
      "source": [
        "df['celly']=df['celly'].apply(lambda x:x.replace('Stüdyo','1+0'))\n",
        "df['celly']=df['celly'].apply(lambda x:x.replace('\\n',''))\n",
        "df['room']=df['celly'].apply(lambda x:x.split('+')[0]).astype(int)\n",
        "df['living-room']=df['celly'].apply(lambda x:x.split('+')[1]).astype(int)"
      ],
      "metadata": {
        "id": "QxEaV0E3LOQ6"
      },
      "execution_count": 141,
      "outputs": []
    },
    {
      "cell_type": "code",
      "source": [
        "print(df['room'].unique())\n",
        "print(df['living-room'].unique())\n",
        "#modelin daha iyi çalışması için uç degerlerin olmamalı"
      ],
      "metadata": {
        "colab": {
          "base_uri": "https://localhost:8080/"
        },
        "id": "SonLz2OUL1d7",
        "outputId": "63861082-0436-4754-91d2-38a0e5bf6075"
      },
      "execution_count": 142,
      "outputs": [
        {
          "output_type": "stream",
          "name": "stdout",
          "text": [
            "[  2   3   1   4   5   6   7   8 523  10]\n",
            "[ 1  0  2 10  3 25]\n"
          ]
        }
      ]
    },
    {
      "cell_type": "code",
      "source": [
        "df.drop(['celly'],axis=1,inplace=True)"
      ],
      "metadata": {
        "id": "SQ0IXd5_NJNB"
      },
      "execution_count": 143,
      "outputs": []
    },
    {
      "cell_type": "code",
      "source": [
        "print(df.info())"
      ],
      "metadata": {
        "colab": {
          "base_uri": "https://localhost:8080/"
        },
        "id": "Kf0ZnLe6Ncue",
        "outputId": "91406857-73ac-4a63-95e7-af3692f1794d"
      },
      "execution_count": 144,
      "outputs": [
        {
          "output_type": "stream",
          "name": "stdout",
          "text": [
            "<class 'pandas.core.frame.DataFrame'>\n",
            "RangeIndex: 5361 entries, 0 to 5360\n",
            "Data columns (total 9 columns):\n",
            " #   Column           Non-Null Count  Dtype \n",
            "---  ------           --------------  ----- \n",
            " 0   list-view-price  5361 non-null   object\n",
            " 1   celly 2          5361 non-null   object\n",
            " 2   celly 3          5360 non-null   object\n",
            " 3   celly 4          4727 non-null   object\n",
            " 4   city             5361 non-null   object\n",
            " 5   district         5361 non-null   object\n",
            " 6   neighborhood     5361 non-null   object\n",
            " 7   room             5361 non-null   int64 \n",
            " 8   living-room      5361 non-null   int64 \n",
            "dtypes: int64(2), object(7)\n",
            "memory usage: 377.1+ KB\n",
            "None\n"
          ]
        }
      ]
    },
    {
      "cell_type": "code",
      "source": [
        " print(df['celly 2'].unique())"
      ],
      "metadata": {
        "colab": {
          "base_uri": "https://localhost:8080/"
        },
        "id": "keJal4sPN3oE",
        "outputId": "b7db815f-2304-4de4-fb2c-3165fe63eea5"
      },
      "execution_count": 145,
      "outputs": [
        {
          "output_type": "stream",
          "name": "stdout",
          "text": [
            "['90 m²' '145 m²' '110 m²' '130 m²' '65 m²' '160 m²' '135 m²' '105 m²'\n",
            " '95 m²' '116 m²' '125 m²' '88 m²' '189 m²' '45 m²' '128 m²' '100 m²'\n",
            " '60 m²' '140 m²' '70 m²' '200 m²' '155 m²' '41 m²' '190 m²' '98 m²'\n",
            " '80 m²' '150 m²' '50 m²' '55 m²' '210 m²' '250 m²' '120 m²' '71 m²'\n",
            " '115 m²' '147 m²' '230 m²' '94 m²' '129 m²' '156 m²' '75 m²' '220 m²'\n",
            " '138 m²' '62 m²' '180 m²' '165 m²' '83 m²' '124 m²' '89 m²' '102 m²'\n",
            " '57 m²' '79 m²' '85 m²' '96 m²' '43 m²' '58 m²' '670 m²' '400 m²'\n",
            " '131 m²' '175 m²' '35 m²' '142 m²' '186 m²' '350 m²' '114 m²' '170 m²'\n",
            " '154 m²' '72 m²' '22 m²' '437 m²' '73 m²' '40 m²' '205 m²' '78 m²'\n",
            " '298 m²' '240 m²' '117 m²' '66 m²' '51 m²' '750 m²' '59 m²' '49 m²'\n",
            " '292 m²' '68 m²' '310 m²' '64 m²' '52 m²' '185 m²' '47 m²' '87 m²'\n",
            " '149 m²' '225 m²' '550 m²' '280 m²' '174 m²' '118 m²' '132 m²' '25 m²'\n",
            " '159 m²' '146 m²' '178 m²' '48 m²' '195 m²' '169 m²' '30 m²' '173 m²'\n",
            " '300 m²' '20 m²' '215 m²' '198 m²' '141 m²' '53 m²' '900 m²' '213 m²'\n",
            " '42 m²' '183 m²' '54 m²' '148 m²' '245 m²' '500 m²' '380 m²' '97 m²'\n",
            " '270 m²' '44 m²' '260 m²' '32 m²' '208 m²' '74 m²' '112 m²' '450 m²'\n",
            " '152 m²' '1.000 m²' '337 m²' '92 m²' '76 m²' '93 m²' '113 m²' '86 m²'\n",
            " '36 m²' '111 m²' '479 m²' '56 m²' '108 m²' '99 m²' '360 m²' '136 m²'\n",
            " '555 m²' '134 m²' '480 m²' '235 m²' '192 m²' '166 m²' '34 m²' '103 m²'\n",
            " '364 m²' '365 m²' '199 m²' '81 m²' '650 m²' '119 m²' '222 m²' '666 m²'\n",
            " '424 m²' '226 m²' '2.464 m²' '38 m²' '127 m²' '139 m²' '123 m²' '133 m²'\n",
            " '107 m²' '320 m²' '2.500 m²' '640 m²' '224 m²' '122 m²' '265 m²' '227 m²'\n",
            " '290 m²' '680 m²' '46 m²' '27 m²' '84 m²' '161 m²' '91 m²' '24 m²'\n",
            " '77 m²' '201 m²' '168 m²' '101 m²' '525 m²' '109 m²' '126 m²' '104 m²'\n",
            " '735 m²' '261 m²' '251 m²' '177 m²' '63 m²' '315 m²' '69 m²' '252 m²'\n",
            " '600 m²' '255 m²' '144 m²' '67 m²' '187 m²' '179 m²' '425 m²' '345 m²'\n",
            " '275 m²' '12 m²' '137 m²' '82 m²' '420 m²' '214 m²' '335 m²' '355 m²'\n",
            " '375 m²' '238 m²' '164 m²' '248 m²' '1.200 m²' '121 m²' '162 m²' '232 m²'\n",
            " '33 m²' '1.305 m²' '4.650 m²' '158 m²' '143 m²' '242 m²' '254 m²'\n",
            " '249 m²' '167 m²']\n"
          ]
        }
      ]
    },
    {
      "cell_type": "code",
      "source": [
        " 1.120  #bu sebepten nokta boşlukla degistirildi"
      ],
      "metadata": {
        "colab": {
          "base_uri": "https://localhost:8080/"
        },
        "id": "9sbon_XjQNR6",
        "outputId": "f58adc33-240e-447e-d643-669d9222bf52"
      },
      "execution_count": 146,
      "outputs": [
        {
          "output_type": "execute_result",
          "data": {
            "text/plain": [
              "1.12"
            ]
          },
          "metadata": {},
          "execution_count": 146
        }
      ]
    },
    {
      "cell_type": "code",
      "source": [
        " df['celly 2']=df['celly 2'].apply(lambda x: x.replace('.', ''))\n",
        " df['area'] = df['celly 2'].apply(lambda x: int(x.split(' ')[0]))\n"
      ],
      "metadata": {
        "id": "NEZFNaAsOc31"
      },
      "execution_count": 147,
      "outputs": []
    },
    {
      "cell_type": "code",
      "source": [
        " print(df['area'].unique())"
      ],
      "metadata": {
        "colab": {
          "base_uri": "https://localhost:8080/"
        },
        "id": "P-4D9a6OQjlz",
        "outputId": "3427e297-3755-45e3-b504-40c2dd85600e"
      },
      "execution_count": 148,
      "outputs": [
        {
          "output_type": "stream",
          "name": "stdout",
          "text": [
            "[  90  145  110  130   65  160  135  105   95  116  125   88  189   45\n",
            "  128  100   60  140   70  200  155   41  190   98   80  150   50   55\n",
            "  210  250  120   71  115  147  230   94  129  156   75  220  138   62\n",
            "  180  165   83  124   89  102   57   79   85   96   43   58  670  400\n",
            "  131  175   35  142  186  350  114  170  154   72   22  437   73   40\n",
            "  205   78  298  240  117   66   51  750   59   49  292   68  310   64\n",
            "   52  185   47   87  149  225  550  280  174  118  132   25  159  146\n",
            "  178   48  195  169   30  173  300   20  215  198  141   53  900  213\n",
            "   42  183   54  148  245  500  380   97  270   44  260   32  208   74\n",
            "  112  450  152 1000  337   92   76   93  113   86   36  111  479   56\n",
            "  108   99  360  136  555  134  480  235  192  166   34  103  364  365\n",
            "  199   81  650  119  222  666  424  226 2464   38  127  139  123  133\n",
            "  107  320 2500  640  224  122  265  227  290  680   46   27   84  161\n",
            "   91   24   77  201  168  101  525  109  126  104  735  261  251  177\n",
            "   63  315   69  252  600  255  144   67  187  179  425  345  275   12\n",
            "  137   82  420  214  335  355  375  238  164  248 1200  121  162  232\n",
            "   33 1305 4650  158  143  242  254  249  167]\n"
          ]
        }
      ]
    },
    {
      "cell_type": "code",
      "source": [
        "df.drop(['celly 2'],axis=1,inplace=True)"
      ],
      "metadata": {
        "id": "gQmlXsl3RsHb"
      },
      "execution_count": 149,
      "outputs": []
    },
    {
      "cell_type": "code",
      "source": [
        "print(df.info())"
      ],
      "metadata": {
        "colab": {
          "base_uri": "https://localhost:8080/"
        },
        "id": "viEMwU4ESJKH",
        "outputId": "d0284c81-2166-4cef-a92d-10eed2982f5c"
      },
      "execution_count": 150,
      "outputs": [
        {
          "output_type": "stream",
          "name": "stdout",
          "text": [
            "<class 'pandas.core.frame.DataFrame'>\n",
            "RangeIndex: 5361 entries, 0 to 5360\n",
            "Data columns (total 9 columns):\n",
            " #   Column           Non-Null Count  Dtype \n",
            "---  ------           --------------  ----- \n",
            " 0   list-view-price  5361 non-null   object\n",
            " 1   celly 3          5360 non-null   object\n",
            " 2   celly 4          4727 non-null   object\n",
            " 3   city             5361 non-null   object\n",
            " 4   district         5361 non-null   object\n",
            " 5   neighborhood     5361 non-null   object\n",
            " 6   room             5361 non-null   int64 \n",
            " 7   living-room      5361 non-null   int64 \n",
            " 8   area             5361 non-null   int64 \n",
            "dtypes: int64(3), object(6)\n",
            "memory usage: 377.1+ KB\n",
            "None\n"
          ]
        }
      ]
    },
    {
      "cell_type": "code",
      "source": [
        "  print(df['celly 3'].unique())"
      ],
      "metadata": {
        "colab": {
          "base_uri": "https://localhost:8080/"
        },
        "id": "PX-A0T6OSMXu",
        "outputId": "fa2e1b02-f3d9-4448-f333-5775e8e65787"
      },
      "execution_count": 151,
      "outputs": [
        {
          "output_type": "stream",
          "name": "stdout",
          "text": [
            "['Sıfır Bina' '15\\n                        Yaşında'\n",
            " '31\\n                        Yaşında'\n",
            " '12\\n                        Yaşında'\n",
            " '8\\n                        Yaşında' '2\\n                        Yaşında'\n",
            " '3\\n                        Yaşında'\n",
            " '20\\n                        Yaşında'\n",
            " '28\\n                        Yaşında'\n",
            " '9\\n                        Yaşında' '5\\n                        Yaşında'\n",
            " '6\\n                        Yaşında'\n",
            " '21\\n                        Yaşında'\n",
            " '4\\n                        Yaşında' '1\\n                        Yaşında'\n",
            " '7\\n                        Yaşında'\n",
            " '25\\n                        Yaşında'\n",
            " '32\\n                        Yaşında'\n",
            " '35\\n                        Yaşında'\n",
            " '45\\n                        Yaşında'\n",
            " '18\\n                        Yaşında'\n",
            " '10\\n                        Yaşında'\n",
            " '14\\n                        Yaşında'\n",
            " '27\\n                        Yaşında'\n",
            " '30\\n                        Yaşında'\n",
            " '24\\n                        Yaşında'\n",
            " '111\\n                        Yaşında'\n",
            " '23\\n                        Yaşında'\n",
            " '13\\n                        Yaşında'\n",
            " '22\\n                        Yaşında'\n",
            " '26\\n                        Yaşında' nan\n",
            " '11\\n                        Yaşında'\n",
            " '19\\n                        Yaşında'\n",
            " '40\\n                        Yaşında'\n",
            " '38\\n                        Yaşında'\n",
            " '36\\n                        Yaşında'\n",
            " '17\\n                        Yaşında'\n",
            " '16\\n                        Yaşında'\n",
            " '50\\n                        Yaşında'\n",
            " '39\\n                        Yaşında'\n",
            " '33\\n                        Yaşında'\n",
            " '48\\n                        Yaşında'\n",
            " '29\\n                        Yaşında'\n",
            " '55\\n                        Yaşında'\n",
            " '600\\n                        Yaşında'\n",
            " '34\\n                        Yaşında'\n",
            " '235\\n                        Yaşında'\n",
            " '37\\n                        Yaşında'\n",
            " '44\\n                        Yaşında'\n",
            " '46\\n                        Yaşında'\n",
            " '151\\n                        Yaşında'\n",
            " '41\\n                        Yaşında'\n",
            " '114\\n                        Yaşında'\n",
            " '60\\n                        Yaşında'\n",
            " '100\\n                        Yaşında'\n",
            " '42\\n                        Yaşında'\n",
            " '43\\n                        Yaşında'\n",
            " '47\\n                        Yaşında']\n"
          ]
        }
      ]
    },
    {
      "cell_type": "code",
      "source": [
        "df['celly 3'] = df['celly 3'].apply(lambda x: str(x).replace('Sıfır Bina', '0 Yaşında'))\n",
        "df['celly 3'] = df['celly 3'].apply(lambda x: str(x).replace('\\n', ' '))\n",
        "df['age'] = df['celly 3'].apply(lambda x: int(x.split(' ')[0]) if x.split(' ')[0].isdigit() else 0)"
      ],
      "metadata": {
        "id": "bVPKLxI5StMC"
      },
      "execution_count": 152,
      "outputs": []
    },
    {
      "cell_type": "code",
      "source": [
        "print(df['age'].unique())"
      ],
      "metadata": {
        "colab": {
          "base_uri": "https://localhost:8080/"
        },
        "id": "QxSRru9sTo7Q",
        "outputId": "fdae665b-32dc-457f-bf4d-4a7083d4d995"
      },
      "execution_count": 153,
      "outputs": [
        {
          "output_type": "stream",
          "name": "stdout",
          "text": [
            "[  0  15  31  12   8   2   3  20  28   9   5   6  21   4   1   7  25  32\n",
            "  35  45  18  10  14  27  30  24 111  23  13  22  26  11  19  40  38  36\n",
            "  17  16  50  39  33  48  29  55 600  34 235  37  44  46 151  41 114  60\n",
            " 100  42  43  47]\n"
          ]
        }
      ]
    },
    {
      "cell_type": "code",
      "source": [
        "df.drop(['celly 3'],axis=1,inplace=True)"
      ],
      "metadata": {
        "id": "Vjii0jCWUv4t"
      },
      "execution_count": 154,
      "outputs": []
    },
    {
      "cell_type": "code",
      "source": [
        "print(df.info())"
      ],
      "metadata": {
        "colab": {
          "base_uri": "https://localhost:8080/"
        },
        "id": "3L1AoluVU4tD",
        "outputId": "2e6eefe6-b46f-4998-8335-4bfb12e47f2a"
      },
      "execution_count": 155,
      "outputs": [
        {
          "output_type": "stream",
          "name": "stdout",
          "text": [
            "<class 'pandas.core.frame.DataFrame'>\n",
            "RangeIndex: 5361 entries, 0 to 5360\n",
            "Data columns (total 9 columns):\n",
            " #   Column           Non-Null Count  Dtype \n",
            "---  ------           --------------  ----- \n",
            " 0   list-view-price  5361 non-null   object\n",
            " 1   celly 4          4727 non-null   object\n",
            " 2   city             5361 non-null   object\n",
            " 3   district         5361 non-null   object\n",
            " 4   neighborhood     5361 non-null   object\n",
            " 5   room             5361 non-null   int64 \n",
            " 6   living-room      5361 non-null   int64 \n",
            " 7   area             5361 non-null   int64 \n",
            " 8   age              5361 non-null   int64 \n",
            "dtypes: int64(4), object(5)\n",
            "memory usage: 377.1+ KB\n",
            "None\n"
          ]
        }
      ]
    },
    {
      "cell_type": "code",
      "source": [
        "print(df['celly 4'].unique())"
      ],
      "metadata": {
        "colab": {
          "base_uri": "https://localhost:8080/"
        },
        "id": "z-mk3p_NU8gG",
        "outputId": "16a7bc35-3e52-4e78-8719-7fe806c835df"
      },
      "execution_count": 156,
      "outputs": [
        {
          "output_type": "stream",
          "name": "stdout",
          "text": [
            "['2. Kat' '3. Kat' nan 'Yüksek Giriş' '11. Kat' 'Kot 3' '1. Kat' 'Ara Kat'\n",
            " '4. Kat' 'Zemin' '6. Kat' 'En Üst Kat' 'Bahçe Katı' '5. Kat' '13. Kat'\n",
            " '8. Kat' '7. Kat' 'Kot 1' 'Çatı Katı' 'Giriş Katı' 'Villa Katı' '10. Kat'\n",
            " 'Teras Katı' 'Yarı Bodrum' 'Kot 2' '12. Kat' 'Bodrum' '21 ve üzeri'\n",
            " '18. Kat' '16. Kat' '14. Kat' 'Tripleks' '9. Kat' '20. Kat' '19. Kat'\n",
            " '17. Kat' '15. Kat' 'Bodrum ve Zemin']\n"
          ]
        }
      ]
    },
    {
      "cell_type": "code",
      "source": [
        "replace_dict = {\n",
        "    'Kot 2': '-2. Kat',\n",
        "    'Kot 1': '-1. Kat',\n",
        "    'Yüksek Giriş': '1. Kat',\n",
        "    'Ara Kat': '3. Kat',\n",
        "    'En Üst Kat': '6. Kat',\n",
        "    'Bahçe Katı': '0. Kat',\n",
        "    'Yarı Bodrum': '0. Kat',\n",
        "    'Bodrum': '0. Kat',\n",
        "    'Kot 3': '-3. Kat',\n",
        "    'Çatı Katı': '7. Kat',\n",
        "    'Zemin': '0. Kat',\n",
        "    'Giriş Katı': '0. Kat',\n",
        "    'Villa Katı': '0. Kat',\n",
        "    '21 ve üzeri': '21. Kat',\n",
        "    'Bodrum ve Zemin': '0. Kat',\n",
        "    'Asma Kat': '1. Kat',\n",
        "    'Tripleks': '0. Kat',\n",
        "    'Teras Katı': '5. Kat',\n",
        "    'nan':'0. Kat',\n",
        "}\n",
        "df['celly 4'] = df['celly 4'].replace(replace_dict.keys(), replace_dict.values()).astype(str)\n",
        "df['celly 4'].dropna(inplace=True)\n",
        "df['floor'] = df['celly 4'].apply(lambda x: int(x.split('.')[0]) if x.split('.')[0].lstrip('-').isdigit() else np.nan)"
      ],
      "metadata": {
        "id": "mTQ0uGczVUrY"
      },
      "execution_count": 159,
      "outputs": []
    },
    {
      "cell_type": "code",
      "source": [
        "print(df['floor'].unique())"
      ],
      "metadata": {
        "colab": {
          "base_uri": "https://localhost:8080/"
        },
        "id": "CIUyXztyW2cP",
        "outputId": "e903e607-5b8d-4007-96fa-58bfc4eb22a2"
      },
      "execution_count": 160,
      "outputs": [
        {
          "output_type": "stream",
          "name": "stdout",
          "text": [
            "[ 2  3  0  1 11 -3  4  6  5 13  8  7 -1 10 -2 12 21 18 16 14  9 20 19 17\n",
            " 15]\n"
          ]
        }
      ]
    },
    {
      "cell_type": "code",
      "source": [
        "df.drop(['celly 4'],axis=1,inplace=True)"
      ],
      "metadata": {
        "id": "1iUZQDl9YS_r"
      },
      "execution_count": 162,
      "outputs": []
    },
    {
      "cell_type": "code",
      "source": [
        "print(df.info())"
      ],
      "metadata": {
        "colab": {
          "base_uri": "https://localhost:8080/"
        },
        "id": "iHXbQ_ETZWZH",
        "outputId": "d18cb0d3-5597-4347-d75a-3e0c1025c361"
      },
      "execution_count": 163,
      "outputs": [
        {
          "output_type": "stream",
          "name": "stdout",
          "text": [
            "<class 'pandas.core.frame.DataFrame'>\n",
            "RangeIndex: 5361 entries, 0 to 5360\n",
            "Data columns (total 9 columns):\n",
            " #   Column           Non-Null Count  Dtype \n",
            "---  ------           --------------  ----- \n",
            " 0   list-view-price  5361 non-null   object\n",
            " 1   city             5361 non-null   object\n",
            " 2   district         5361 non-null   object\n",
            " 3   neighborhood     5361 non-null   object\n",
            " 4   room             5361 non-null   int64 \n",
            " 5   living-room      5361 non-null   int64 \n",
            " 6   area             5361 non-null   int64 \n",
            " 7   age              5361 non-null   int64 \n",
            " 8   floor            5361 non-null   int64 \n",
            "dtypes: int64(5), object(4)\n",
            "memory usage: 377.1+ KB\n",
            "None\n"
          ]
        }
      ]
    },
    {
      "cell_type": "code",
      "source": [
        "print(df['list-view-price'].unique())"
      ],
      "metadata": {
        "colab": {
          "base_uri": "https://localhost:8080/"
        },
        "id": "E8mN3aGNZerK",
        "outputId": "98cff4ba-fddb-40f2-ba4f-ca8f737d8858"
      },
      "execution_count": 164,
      "outputs": [
        {
          "output_type": "stream",
          "name": "stdout",
          "text": [
            "[15.0 22.5 8.5 12.0 20.0 22.0 16.8 18.0 18.5 24.0 14.0 30.0 10.0 15.5 13.5\n",
            " 16.0 19.0 17.0 13.0 14.5 40.0 11.5 25.5 33.0 27.0 9.5 19.5 7.5 28.0 21.0\n",
            " 11.0 25.0 16.5 17.5 7.0 8.0 12.5 45.0 23.0 50.0 13.75 10.5 16.9 '12.000'\n",
            " '20.000' '27.500' '10.000' '15.000' '37.500' '55.000' '25.000' '26.000'\n",
            " '5.000' '14.000' '35.000' '29.000' '28.000' '16.000' '23.000' '22.000'\n",
            " '15.250' '17.000' '21.000' '17.500' '2.000' '40.000' '36.500' '33.000'\n",
            " '30.000' '27.000' '18.500' '13.500' '70.000' '13.000' '19.500' '45.000'\n",
            " '19.000' '52.000' '11.000' '13.900' '50.000' '18.000' '38.000' '32.500'\n",
            " '49.000' '32.000' '11.500' '12.500' '29.500' '14.500' '9.850' '75.000'\n",
            " '4.000' '65.000' '105.000' '9.000' '48.000' '80.000' '100.000' '8.500'\n",
            " '8.000' '20.500' '15.500' '15.750' '9.950' '36.000' '13.990' '200.000'\n",
            " '9.500' '16.500' '150.000' '22.500' '21.500' '62.500' '4.250' '5.500.000'\n",
            " '42.500' '10.500' '34.000' '5.500' '42.000' '10.400' '130.000' '300.000'\n",
            " '210.000' '2.500' '24.000' '270.000' '7.500' 6.5 12.75 9.0 32.0 28.5 5.0\n",
            " 27.5 12.15 6.0 36.0 10.999 17.75 17.6 21.5 23.5 26.0 11.25 35.0 8.25 5.5\n",
            " 24.999 46.0 6.25 40.25 19.95 20.7 28.75 250.0 14.9 10.25 8.75 18.75 12.25\n",
            " 9.75 '550.000' '195.000' '120.000' '250.000' '47.500' '60.000' '160.000'\n",
            " '580.000' '125.000' '450.000' '165.000' '350.000' '420.000' '480.000'\n",
            " '400.000' '24.500' '7.250' '1.100.000' '110.000' '44.000' '22.750'\n",
            " '500.000' '185.000' '220.000' '1.250.000' '58.000' '360.000' '175.000'\n",
            " '37.000' '26.500' '475.000' '170.000' '90.000' '43.000' '85.000'\n",
            " '750.000' '23.500' '7.000' '180.000' '95.000' '28.500' '29.750' '140.000'\n",
            " '700.000' '190.000' '255.000' '545.000' '115.000' '290.000' '31.666'\n",
            " '6.000' '47.000' '46.000' '280.000' '53.000' '1.000' '7.900' '3.500.000'\n",
            " '333.333' '1.000.000' '370.000' '900.000' '17.250' '30.500' '275.000'\n",
            " '600.000' '18.250' '39.000' '127.000' '320.000' '14.750' '96.000'\n",
            " '78.000' '98.000' '31.000' '12.750' '11.250' '35.500' '4.350.000'\n",
            " '41.000' '3.650.000' '25.500' '21.250' '76.000' '1.500.000' '16.750'\n",
            " '950.000' '3.000' '66.000' '650.000' '6.800' '2.500.000' '14.950'\n",
            " '325.000' '390.000' '28.750' '31.500' '18.750' '240.000' '1.200.000'\n",
            " '6.500' '800.000' 7.25 7.2 15.999 '850.000' '875.000' '54.000' '13.250'\n",
            " '135.000' '48.500' '200' '375.000' '57.000' '29.950' '52.500' '57.500'\n",
            " '34.500' '19.800' '2.000.000' '400' '20.750' '19.750' '740.000'\n",
            " '1.600.000' '575.000' '62.000' '1.800.000' '525.000' '17.900' '30.900'\n",
            " '9.990' '14.250' '13.750' '56.000' '84.000' '68.000' '16.250' '2.250.000'\n",
            " '72.500']\n"
          ]
        }
      ]
    },
    {
      "cell_type": "code",
      "source": [
        "df['list-view-price'] = df['list-view-price'].astype(str).apply(lambda x: x.replace('.', ''))\n",
        "df['price'] = df['list-view-price'].astype(int)"
      ],
      "metadata": {
        "id": "ysMiX7JFZhNw"
      },
      "execution_count": 165,
      "outputs": []
    },
    {
      "cell_type": "code",
      "source": [
        "print(df['price'].unique())"
      ],
      "metadata": {
        "colab": {
          "base_uri": "https://localhost:8080/"
        },
        "id": "InSaz_QVZpOC",
        "outputId": "94086d92-9efa-4d60-ecb4-d6306266eca7"
      },
      "execution_count": 166,
      "outputs": [
        {
          "output_type": "stream",
          "name": "stdout",
          "text": [
            "[    150     225      85     120     200     220     168     180     185\n",
            "     240     140     300     100     155     135     160     190     170\n",
            "     130     145     400     115     255     330     270      95     195\n",
            "      75     280     210     110     250     165     175      70      80\n",
            "     125     450     230     500    1375     105     169   12000   20000\n",
            "   27500   10000   15000   37500   55000   25000   26000    5000   14000\n",
            "   35000   29000   28000   16000   23000   22000   15250   17000   21000\n",
            "   17500    2000   40000   36500   33000   30000   27000   18500   13500\n",
            "   70000   13000   19500   45000   19000   52000   11000   13900   50000\n",
            "   18000   38000   32500   49000   32000   11500   12500   29500   14500\n",
            "    9850   75000    4000   65000  105000    9000   48000   80000  100000\n",
            "    8500    8000   20500   15500   15750    9950   36000   13990  200000\n",
            "    9500   16500  150000   22500   21500   62500    4250 5500000   42500\n",
            "   10500   34000    5500   42000   10400  130000  300000  210000    2500\n",
            "   24000  270000    7500      65    1275      90     320     285      50\n",
            "     275    1215      60     360   10999    1775     176     215     235\n",
            "     260    1125     350     825      55   24999     460     625    4025\n",
            "    1995     207    2875     149    1025     875    1875    1225     975\n",
            "  550000  195000  120000  250000   47500   60000  160000  580000  125000\n",
            "  450000  165000  350000  420000  480000  400000   24500    7250 1100000\n",
            "  110000   44000   22750  500000  185000  220000 1250000   58000  360000\n",
            "  175000   37000   26500  475000  170000   90000   43000   85000  750000\n",
            "   23500    7000  180000   95000   28500   29750  140000  700000  190000\n",
            "  255000  545000  115000  290000   31666    6000   47000   46000  280000\n",
            "   53000    1000    7900 3500000  333333 1000000  370000  900000   17250\n",
            "   30500  275000  600000   18250   39000  127000  320000   14750   96000\n",
            "   78000   98000   31000   12750   11250   35500 4350000   41000 3650000\n",
            "   25500   21250   76000 1500000   16750  950000    3000   66000  650000\n",
            "    6800 2500000   14950  325000  390000   28750   31500   18750  240000\n",
            " 1200000    6500  800000     725      72   15999  850000  875000   54000\n",
            "   13250  135000   48500  375000   57000   29950   52500   57500   34500\n",
            "   19800 2000000   20750   19750  740000 1600000  575000   62000 1800000\n",
            "  525000   17900   30900    9990   14250   13750   56000   84000   68000\n",
            "   16250 2250000   72500]\n"
          ]
        }
      ]
    },
    {
      "cell_type": "code",
      "source": [
        "df.drop(['list-view-price'],axis=1,inplace=True)"
      ],
      "metadata": {
        "id": "dFYUGmnIZrre"
      },
      "execution_count": 168,
      "outputs": []
    },
    {
      "cell_type": "code",
      "source": [
        "print(df.columns)"
      ],
      "metadata": {
        "colab": {
          "base_uri": "https://localhost:8080/"
        },
        "id": "W8fpqMbAZyjj",
        "outputId": "f0139ea8-3d94-4f88-e8dd-c27a2a47bc4a"
      },
      "execution_count": 169,
      "outputs": [
        {
          "output_type": "stream",
          "name": "stdout",
          "text": [
            "Index(['city', 'district', 'neighborhood', 'room', 'living-room', 'area',\n",
            "       'age', 'floor', 'price'],\n",
            "      dtype='object')\n"
          ]
        }
      ]
    },
    {
      "cell_type": "code",
      "source": [
        "print(df.info())"
      ],
      "metadata": {
        "colab": {
          "base_uri": "https://localhost:8080/"
        },
        "id": "nOdKKwPiZ3Or",
        "outputId": "ff2b53a0-b45f-474f-ba81-c34b3176f62a"
      },
      "execution_count": 170,
      "outputs": [
        {
          "output_type": "stream",
          "name": "stdout",
          "text": [
            "<class 'pandas.core.frame.DataFrame'>\n",
            "RangeIndex: 5361 entries, 0 to 5360\n",
            "Data columns (total 9 columns):\n",
            " #   Column        Non-Null Count  Dtype \n",
            "---  ------        --------------  ----- \n",
            " 0   city          5361 non-null   object\n",
            " 1   district      5361 non-null   object\n",
            " 2   neighborhood  5361 non-null   object\n",
            " 3   room          5361 non-null   int64 \n",
            " 4   living-room   5361 non-null   int64 \n",
            " 5   area          5361 non-null   int64 \n",
            " 6   age           5361 non-null   int64 \n",
            " 7   floor         5361 non-null   int64 \n",
            " 8   price         5361 non-null   int64 \n",
            "dtypes: int64(6), object(3)\n",
            "memory usage: 377.1+ KB\n",
            "None\n"
          ]
        }
      ]
    },
    {
      "cell_type": "code",
      "source": [
        "df.to_csv('data.csv', index=False)"
      ],
      "metadata": {
        "id": "s49J29r4Z5Zm"
      },
      "execution_count": 171,
      "outputs": []
    },
    {
      "cell_type": "code",
      "source": [],
      "metadata": {
        "id": "Te1eqdRFZ8hY"
      },
      "execution_count": null,
      "outputs": []
    }
  ]
}