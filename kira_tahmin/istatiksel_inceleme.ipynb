{
  "nbformat": 4,
  "nbformat_minor": 0,
  "metadata": {
    "colab": {
      "provenance": []
    },
    "kernelspec": {
      "name": "python3",
      "display_name": "Python 3"
    },
    "language_info": {
      "name": "python"
    }
  },
  "cells": [
    {
      "cell_type": "markdown",
      "source": [
        " **Verilerin istatiksel olarak incelenmesi ve aykırı degerleri ayıklama**"
      ],
      "metadata": {
        "id": "pnraIe8Hf5kS"
      }
    },
    {
      "cell_type": "code",
      "execution_count": 1,
      "metadata": {
        "id": "DX_lm_R-fksW"
      },
      "outputs": [],
      "source": [
        "import numpy as np\n",
        "import pandas as pd\n",
        "import matplotlib.pyplot as plt"
      ]
    },
    {
      "cell_type": "markdown",
      "source": [
        "Verinin yuklenmesi"
      ],
      "metadata": {
        "id": "jEremqGhgcOm"
      }
    },
    {
      "cell_type": "code",
      "source": [
        "df=pd.read_csv(\"data (1).csv\")"
      ],
      "metadata": {
        "id": "IvQkOQLsgVCB"
      },
      "execution_count": 24,
      "outputs": []
    },
    {
      "cell_type": "code",
      "source": [
        "print(df.info())"
      ],
      "metadata": {
        "colab": {
          "base_uri": "https://localhost:8080/"
        },
        "id": "FWaCPXCIgoYM",
        "outputId": "446418f5-b289-496c-f624-e793a47239af"
      },
      "execution_count": 25,
      "outputs": [
        {
          "output_type": "stream",
          "name": "stdout",
          "text": [
            "<class 'pandas.core.frame.DataFrame'>\n",
            "RangeIndex: 5361 entries, 0 to 5360\n",
            "Data columns (total 9 columns):\n",
            " #   Column        Non-Null Count  Dtype \n",
            "---  ------        --------------  ----- \n",
            " 0   city          5361 non-null   object\n",
            " 1   district      5361 non-null   object\n",
            " 2   neighborhood  5361 non-null   object\n",
            " 3   room          5361 non-null   int64 \n",
            " 4   living-room   5361 non-null   int64 \n",
            " 5   area          5361 non-null   int64 \n",
            " 6   age           5361 non-null   int64 \n",
            " 7   floor         5361 non-null   int64 \n",
            " 8   price         5361 non-null   int64 \n",
            "dtypes: int64(6), object(3)\n",
            "memory usage: 377.1+ KB\n",
            "None\n"
          ]
        }
      ]
    },
    {
      "cell_type": "code",
      "source": [
        "df['city'] = df['city'].astype('category')\n",
        "df['district'] = df['district'].astype('category')\n",
        "df['neighborhood'] = df['neighborhood'].astype('category')\n",
        "df['room'] = df['room'].astype('int')\n",
        "df['living-room'] = df['living-room'].astype('int')\n",
        "df['area'] = df['area'].astype('int')\n",
        "df['age'] = df['age'].astype('int')\n",
        "df['floor'] = df['floor'].astype('int')\n",
        "df['price'] = df['price'].astype('int')"
      ],
      "metadata": {
        "id": "vTUyyENWgwjP"
      },
      "execution_count": 26,
      "outputs": []
    },
    {
      "cell_type": "code",
      "source": [
        "print(df.info())"
      ],
      "metadata": {
        "colab": {
          "base_uri": "https://localhost:8080/"
        },
        "id": "oTBu9xU8iFXD",
        "outputId": "8146d74a-526e-48db-8284-0867827d118d"
      },
      "execution_count": 27,
      "outputs": [
        {
          "output_type": "stream",
          "name": "stdout",
          "text": [
            "<class 'pandas.core.frame.DataFrame'>\n",
            "RangeIndex: 5361 entries, 0 to 5360\n",
            "Data columns (total 9 columns):\n",
            " #   Column        Non-Null Count  Dtype   \n",
            "---  ------        --------------  -----   \n",
            " 0   city          5361 non-null   category\n",
            " 1   district      5361 non-null   category\n",
            " 2   neighborhood  5361 non-null   category\n",
            " 3   room          5361 non-null   int64   \n",
            " 4   living-room   5361 non-null   int64   \n",
            " 5   area          5361 non-null   int64   \n",
            " 6   age           5361 non-null   int64   \n",
            " 7   floor         5361 non-null   int64   \n",
            " 8   price         5361 non-null   int64   \n",
            "dtypes: category(3), int64(6)\n",
            "memory usage: 296.9 KB\n",
            "None\n"
          ]
        }
      ]
    },
    {
      "cell_type": "markdown",
      "source": [
        "Numerik degerlerin min maks bulma"
      ],
      "metadata": {
        "id": "cXodfEB-iQrQ"
      }
    },
    {
      "cell_type": "code",
      "source": [
        "columns = df.select_dtypes(include=[np.number]).columns\n",
        "min_values = []\n",
        "max_values = []\n",
        "for column in columns:\n",
        "    Q1 = df[column].quantile(0.25)\n",
        "    Q3 = df[column].quantile(0.75)\n",
        "    IQR = Q3 - Q1\n",
        "    min_value = Q1 - 1.5 * IQR\n",
        "    max_value = Q3 + 1.5 * IQR\n",
        "    min_values.append(min_value)\n",
        "    max_values.append(max_value)\n",
        "    print(f\"Column: {column}, min: {min_value}, max: {max_value}\")"
      ],
      "metadata": {
        "colab": {
          "base_uri": "https://localhost:8080/"
        },
        "id": "398-fhb_iMcI",
        "outputId": "e2274559-2b9d-4c9e-b3e8-2a5d75924baa"
      },
      "execution_count": 28,
      "outputs": [
        {
          "output_type": "stream",
          "name": "stdout",
          "text": [
            "Column: room, min: 0.5, max: 4.5\n",
            "Column: living-room, min: 1.0, max: 1.0\n",
            "Column: area, min: -15.0, max: 225.0\n",
            "Column: age, min: -25.0, max: 55.0\n",
            "Column: floor, min: -2.0, max: 6.0\n",
            "Column: price, min: -10500.0, max: 57500.0\n"
          ]
        }
      ]
    },
    {
      "cell_type": "markdown",
      "source": [
        "Genelde bir salonlu evlerin oldugunu görüyoruz.Yas alan fiyat  alt degerlerde düzeltmeler yapmak gerekli üst degerleri sınır olarak alırız.\n",
        "\n",
        "**Aykırı degerlerin temizlenmesi**"
      ],
      "metadata": {
        "id": "eOKpPTmPm3q4"
      }
    },
    {
      "cell_type": "code",
      "source": [
        "for i, column in enumerate(columns):\n",
        "    df = df[(df[column] >= min_values[i]) & (df[column] <= max_values[i])]"
      ],
      "metadata": {
        "id": "og-br4wHl_ut"
      },
      "execution_count": 29,
      "outputs": []
    },
    {
      "cell_type": "code",
      "source": [
        "print(df.info())"
      ],
      "metadata": {
        "colab": {
          "base_uri": "https://localhost:8080/"
        },
        "id": "Kq-Oap10omY0",
        "outputId": "e6d35654-8068-4dda-9e7d-1518a9d3aae9"
      },
      "execution_count": 30,
      "outputs": [
        {
          "output_type": "stream",
          "name": "stdout",
          "text": [
            "<class 'pandas.core.frame.DataFrame'>\n",
            "Index: 4288 entries, 0 to 5360\n",
            "Data columns (total 9 columns):\n",
            " #   Column        Non-Null Count  Dtype   \n",
            "---  ------        --------------  -----   \n",
            " 0   city          4288 non-null   category\n",
            " 1   district      4288 non-null   category\n",
            " 2   neighborhood  4288 non-null   category\n",
            " 3   room          4288 non-null   int64   \n",
            " 4   living-room   4288 non-null   int64   \n",
            " 5   area          4288 non-null   int64   \n",
            " 6   age           4288 non-null   int64   \n",
            " 7   floor         4288 non-null   int64   \n",
            " 8   price         4288 non-null   int64   \n",
            "dtypes: category(3), int64(6)\n",
            "memory usage: 275.8 KB\n",
            "None\n"
          ]
        }
      ]
    },
    {
      "cell_type": "code",
      "source": [
        "print(df.describe())"
      ],
      "metadata": {
        "colab": {
          "base_uri": "https://localhost:8080/"
        },
        "id": "IYCFL14dprKm",
        "outputId": "5033a061-5e29-4d1c-a9d0-65a53f9e2cc6"
      },
      "execution_count": 31,
      "outputs": [
        {
          "output_type": "stream",
          "name": "stdout",
          "text": [
            "              room  living-room         area          age        floor  \\\n",
            "count  4288.000000       4288.0  4288.000000  4288.000000  4288.000000   \n",
            "mean      2.142724          1.0   101.226446    14.799207     2.264925   \n",
            "std       0.829063          0.0    37.652064    11.824588     1.717312   \n",
            "min       1.000000          1.0    20.000000     0.000000    -2.000000   \n",
            "25%       1.000000          1.0    70.000000     5.000000     1.000000   \n",
            "50%       2.000000          1.0   100.000000    12.000000     2.000000   \n",
            "75%       3.000000          1.0   130.000000    25.000000     3.000000   \n",
            "max       4.000000          1.0   225.000000    55.000000     6.000000   \n",
            "\n",
            "              price  \n",
            "count   4288.000000  \n",
            "mean   19842.338619  \n",
            "std    12222.267908  \n",
            "min       50.000000  \n",
            "25%    14000.000000  \n",
            "50%    20000.000000  \n",
            "75%    26125.000000  \n",
            "max    57500.000000  \n"
          ]
        }
      ]
    },
    {
      "cell_type": "markdown",
      "source": [
        "min Kira için elle duzeltme"
      ],
      "metadata": {
        "id": "vbymYdVZslIS"
      }
    },
    {
      "cell_type": "code",
      "source": [
        "df=df[df['price']>=3000]"
      ],
      "metadata": {
        "id": "O1jfgIvAsXiz"
      },
      "execution_count": 35,
      "outputs": []
    },
    {
      "cell_type": "code",
      "source": [
        "print(df.info())"
      ],
      "metadata": {
        "colab": {
          "base_uri": "https://localhost:8080/"
        },
        "id": "14Ue-4xfsxu6",
        "outputId": "43d38a4c-076f-4d23-d978-1aee4be689ac"
      },
      "execution_count": 36,
      "outputs": [
        {
          "output_type": "stream",
          "name": "stdout",
          "text": [
            "<class 'pandas.core.frame.DataFrame'>\n",
            "Index: 3586 entries, 194 to 5360\n",
            "Data columns (total 9 columns):\n",
            " #   Column        Non-Null Count  Dtype   \n",
            "---  ------        --------------  -----   \n",
            " 0   city          3586 non-null   category\n",
            " 1   district      3586 non-null   category\n",
            " 2   neighborhood  3586 non-null   category\n",
            " 3   room          3586 non-null   int64   \n",
            " 4   living-room   3586 non-null   int64   \n",
            " 5   area          3586 non-null   int64   \n",
            " 6   age           3586 non-null   int64   \n",
            " 7   floor         3586 non-null   int64   \n",
            " 8   price         3586 non-null   int64   \n",
            "dtypes: category(3), int64(6)\n",
            "memory usage: 234.7 KB\n",
            "None\n"
          ]
        }
      ]
    },
    {
      "cell_type": "code",
      "source": [
        "df.to_csv(\"data_cleand.csv\",index=False)"
      ],
      "metadata": {
        "id": "l4_wilyhs0eL"
      },
      "execution_count": 38,
      "outputs": []
    },
    {
      "cell_type": "code",
      "source": [],
      "metadata": {
        "id": "yB-qxLVjtcjH"
      },
      "execution_count": null,
      "outputs": []
    }
  ]
}